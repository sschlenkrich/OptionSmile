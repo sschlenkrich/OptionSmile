{
 "cells": [
  {
   "cell_type": "markdown",
   "id": "c63946c9",
   "metadata": {},
   "source": [
    "# Implied Volatilities\n",
    "\n",
    "In this notebook we illustrate calculated implied volatilities from option data."
   ]
  },
  {
   "cell_type": "code",
   "execution_count": null,
   "id": "041635d3",
   "metadata": {},
   "outputs": [],
   "source": [
    "import sys\n",
    "import warnings\n",
    "\n",
    "sys.path.append('../python/')\n",
    "warnings.simplefilter(action='ignore', category=UserWarning)  # suppress pandas sql warning\n",
    "\n",
    "import numpy as np\n",
    "import pandas as pd\n",
    "import plotly.graph_objects as go\n",
    "\n",
    "import data\n",
    "data.initialise()\n",
    "\n",
    "from smileplot import smile_plot\n",
    "from smiledata import smile_data\n"
   ]
  },
  {
   "cell_type": "code",
   "execution_count": null,
   "id": "b1028a1c",
   "metadata": {},
   "outputs": [],
   "source": [
    "date = '2022-09-16'\n",
    "symbols = pd.read_csv('../data/DJIA.csv', sep=';')['Symbol']"
   ]
  },
  {
   "cell_type": "code",
   "execution_count": null,
   "id": "85294be0",
   "metadata": {},
   "outputs": [],
   "source": [
    "# df = smile_data('SHW', date)\n",
    "# df"
   ]
  },
  {
   "cell_type": "code",
   "execution_count": null,
   "id": "ea19331d",
   "metadata": {},
   "outputs": [],
   "source": [
    "for symbol in symbols:\n",
    "    try:\n",
    "        smile_plot(symbol, date).show()\n",
    "    except:\n",
    "        print(\"Error plotting \" + symbol + \".\")\n"
   ]
  }
 ],
 "metadata": {
  "kernelspec": {
   "display_name": "Python 3",
   "language": "python",
   "name": "python3"
  },
  "language_info": {
   "codemirror_mode": {
    "name": "ipython",
    "version": 3
   },
   "file_extension": ".py",
   "mimetype": "text/x-python",
   "name": "python",
   "nbconvert_exporter": "python",
   "pygments_lexer": "ipython3",
   "version": "3.13.7"
  }
 },
 "nbformat": 4,
 "nbformat_minor": 5
}
