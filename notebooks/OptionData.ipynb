{
 "cells": [
  {
   "cell_type": "markdown",
   "id": "44541fd2",
   "metadata": {},
   "source": [
    "# Option Data\n",
    "\n",
    "With this notebook, we illustrate available option data."
   ]
  },
  {
   "cell_type": "code",
   "execution_count": null,
   "id": "bf83a91b",
   "metadata": {},
   "outputs": [],
   "source": [
    "import sys\n",
    "sys.path.append('../python/')\n",
    "\n",
    "import warnings\n",
    "warnings.simplefilter(action='ignore', category=UserWarning)  # suppress pandas sql warning\n",
    "\n",
    "import plotly.graph_objects as go"
   ]
  },
  {
   "cell_type": "code",
   "execution_count": null,
   "id": "b4275644",
   "metadata": {},
   "outputs": [],
   "source": [
    "import data\n",
    "data.initialise()"
   ]
  },
  {
   "cell_type": "markdown",
   "id": "6bf9779b",
   "metadata": {},
   "source": [
    "We select a stock (symbol) and a data (in ISO format)."
   ]
  },
  {
   "cell_type": "code",
   "execution_count": null,
   "id": "1e10a02a",
   "metadata": {},
   "outputs": [],
   "source": [
    "symbol = 'NVDA'\n",
    "date = '2022-09-16'"
   ]
  },
  {
   "cell_type": "markdown",
   "id": "29282a50",
   "metadata": {},
   "source": [
    "## Quoted Option Prices"
   ]
  },
  {
   "cell_type": "code",
   "execution_count": null,
   "id": "ff81bde7",
   "metadata": {},
   "outputs": [],
   "source": [
    "def plot_smile_data_for_expiry(symbol, date, expiry):\n",
    "    spot = data.spot_price(symbol, date)['close'].values[0]\n",
    "    df = data.smile_prices(symbol, date, expiry)\n",
    "    strikes = df.columns\n",
    "    df = df.reset_index()\n",
    "    df_c = df[ df['call_put'] == 'Call']\n",
    "    df_p = df[ df['call_put'] == 'Put']\n",
    "    #\n",
    "    c_mid = 0.5 * (df_c[df_c['data_name'] == 'ask'][strikes].values[0] + df_c[df_c['data_name'] == 'bid'][strikes].values[0])\n",
    "    p_mid = 0.5 * (df_p[df_p['data_name'] == 'ask'][strikes].values[0] + df_p[df_p['data_name'] == 'bid'][strikes].values[0])\n",
    "    c_ba = 0.5 * (df_c[df_c['data_name'] == 'ask'][strikes].values[0] - df_c[df_c['data_name'] == 'bid'][strikes].values[0])\n",
    "    p_ba = 0.5 * (df_p[df_p['data_name'] == 'ask'][strikes].values[0] - df_p[df_p['data_name'] == 'bid'][strikes].values[0])\n",
    "    #\n",
    "    title_string = \"Option Prices %s, %s, spot %.2f, expiry %s\" % (symbol, str(date), spot, str(expiry))\n",
    "    error_c = dict(type='data', array = c_ba, visible=True)\n",
    "    error_p = dict(type='data', array = p_ba, visible=True)\n",
    "    c_trace = go.Scatter(x = strikes, y = c_mid, mode='lines', name='Call', error_y=error_c)\n",
    "    p_trace = go.Scatter(x = strikes, y = p_mid, mode='lines', name='Put', error_y=error_p)\n",
    "    layout = go.Layout(title=dict(text=title_string))\n",
    "    fig = go.Figure(data=[c_trace, p_trace], layout=layout)\n",
    "    fig.show()\n",
    "    #\n",
    "\n",
    "def plot_smile_data(symbol, date):\n",
    "    expiries = data.smile_expiries(symbol, date)\n",
    "    for expiry in expiries['expiration']:\n",
    "        plot_smile_data_for_expiry(symbol, date, expiry)\n",
    "    #\n",
    "\n",
    "plot_smile_data(symbol, date)"
   ]
  },
  {
   "cell_type": "markdown",
   "id": "d54114e7",
   "metadata": {},
   "source": [
    "## Quoted Implied Volatilities"
   ]
  },
  {
   "cell_type": "code",
   "execution_count": null,
   "id": "f464f578",
   "metadata": {},
   "outputs": [],
   "source": [
    "def plot_smile_vols_for_expiry(symbol, date, expiry):\n",
    "    spot = data.spot_price(symbol, date)['close'].values[0]\n",
    "    df = data.smile_prices(symbol, date, expiry, values = ['vol',])\n",
    "    strikes = df.columns\n",
    "    df = df.reset_index()\n",
    "    df_c = df[ df['call_put'] == 'Call']\n",
    "    df_p = df[ df['call_put'] == 'Put']\n",
    "    #\n",
    "    c_vols = df_c[strikes].values[0]\n",
    "    p_vols = df_p[strikes].values[0]\n",
    "    #\n",
    "    title_string = \"Option Vols %s, %s, spot %.2f, expiry %s\" % (symbol, str(date), spot, str(expiry))\n",
    "    c_trace = go.Scatter(x = strikes, y = c_vols, mode='lines+markers', name='Call')\n",
    "    p_trace = go.Scatter(x = strikes, y = p_vols, mode='lines+markers', name='Put')\n",
    "    layout = go.Layout(title=dict(text=title_string))\n",
    "    fig = go.Figure(data=[c_trace, p_trace], layout=layout)\n",
    "    fig.show()\n",
    "    #\n",
    "\n",
    "def plot_smile_vols(symbol, date):\n",
    "    expiries = data.smile_expiries(symbol, date)\n",
    "    for expiry in expiries['expiration']:\n",
    "        plot_smile_vols_for_expiry(symbol, date, expiry)\n",
    "    #\n",
    "\n",
    "plot_smile_vols(symbol, date)"
   ]
  },
  {
   "cell_type": "markdown",
   "id": "0986341b",
   "metadata": {},
   "source": [
    "We see that implied Call and Put volatilities do not match/overlap. This indicates that the forward price was not estimated correctly when calculating impled volatilities."
   ]
  }
 ],
 "metadata": {
  "kernelspec": {
   "display_name": "Python 3",
   "language": "python",
   "name": "python3"
  },
  "language_info": {
   "codemirror_mode": {
    "name": "ipython",
    "version": 3
   },
   "file_extension": ".py",
   "mimetype": "text/x-python",
   "name": "python",
   "nbconvert_exporter": "python",
   "pygments_lexer": "ipython3",
   "version": "3.13.7"
  }
 },
 "nbformat": 4,
 "nbformat_minor": 5
}
